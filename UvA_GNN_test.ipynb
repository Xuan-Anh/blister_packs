{
 "cells": [
  {
   "cell_type": "code",
   "execution_count": 2,
   "metadata": {},
   "outputs": [],
   "source": [
    "## Standard libraries\n",
    "import os\n",
    "import json\n",
    "import math\n",
    "import numpy as np\n",
    "import time"
   ]
  },
  {
   "cell_type": "code",
   "execution_count": 4,
   "metadata": {},
   "outputs": [
    {
     "name": "stdout",
     "output_type": "stream",
     "text": [
      "Looking in indexes: https://pypi.org/simple, https://download.pytorch.org/whl/cu113\n",
      "Requirement already satisfied: torch in /mnt/disk1/doan/.conda/envs/blister_packs/lib/python3.9/site-packages (1.11.0)\n",
      "Requirement already satisfied: torchvision in /mnt/disk1/doan/.conda/envs/blister_packs/lib/python3.9/site-packages (0.12.0)\n",
      "Requirement already satisfied: torchaudio in /mnt/disk1/doan/.conda/envs/blister_packs/lib/python3.9/site-packages (0.11.0)\n",
      "Requirement already satisfied: typing_extensions in /mnt/disk1/doan/.conda/envs/blister_packs/lib/python3.9/site-packages (from torch) (4.2.0)\n",
      "Requirement already satisfied: numpy in /mnt/disk1/doan/.conda/envs/blister_packs/lib/python3.9/site-packages (from torchvision) (1.22.3)\n",
      "Requirement already satisfied: requests in /mnt/disk1/doan/.conda/envs/blister_packs/lib/python3.9/site-packages (from torchvision) (2.27.1)\n",
      "Requirement already satisfied: pillow!=8.3.*,>=5.3.0 in /mnt/disk1/doan/.conda/envs/blister_packs/lib/python3.9/site-packages (from torchvision) (9.0.1)\n",
      "Requirement already satisfied: urllib3<1.27,>=1.21.1 in /mnt/disk1/doan/.conda/envs/blister_packs/lib/python3.9/site-packages (from requests->torchvision) (1.26.9)\n",
      "Requirement already satisfied: idna<4,>=2.5 in /mnt/disk1/doan/.conda/envs/blister_packs/lib/python3.9/site-packages (from requests->torchvision) (3.3)\n",
      "Requirement already satisfied: charset-normalizer~=2.0.0 in /mnt/disk1/doan/.conda/envs/blister_packs/lib/python3.9/site-packages (from requests->torchvision) (2.0.12)\n",
      "Requirement already satisfied: certifi>=2017.4.17 in /mnt/disk1/doan/.conda/envs/blister_packs/lib/python3.9/site-packages (from requests->torchvision) (2021.10.8)\n"
     ]
    }
   ],
   "source": [
    "! pip3 install torch torchvision torchaudio --extra-index-url https://download.pytorch.org/whl/cu113\n",
    "! pip install -q torch-scatter -f https://data.pyg.org/whl/torch-1.10.0+cu113.html\n",
    "! pip install -q torch-sparse -f https://data.pyg.org/whl/torch-1.10.0+cu113.html\n",
    "! pip install -q git+https://github.com/pyg-team/pytorch_geometric.git"
   ]
  },
  {
   "cell_type": "code",
   "execution_count": 11,
   "metadata": {},
   "outputs": [],
   "source": []
  },
  {
   "cell_type": "code",
   "execution_count": 4,
   "metadata": {},
   "outputs": [],
   "source": [
    "import requests\n",
    "requests.packages.urllib3.disable_warnings()\n",
    "import ssl\n",
    "\n",
    "try:\n",
    "    _create_unverified_https_context = ssl._create_unverified_context\n",
    "except AttributeError:\n",
    "    # Legacy Python that doesn't verify HTTPS certificates by default\n",
    "    pass\n",
    "else:\n",
    "    # Handle target environment that doesn't support HTTPS verification\n",
    "    ssl._create_default_https_context = _create_unverified_https_context"
   ]
  },
  {
   "cell_type": "code",
   "execution_count": 5,
   "metadata": {},
   "outputs": [],
   "source": [
    "import keras\n",
    "from keras.datasets import mnist\n",
    "\n",
    "(X_train, y_train), (X_test, y_test) = mnist.load_data()"
   ]
  },
  {
   "cell_type": "code",
   "execution_count": 6,
   "metadata": {},
   "outputs": [],
   "source": [
    "X_train_norm = tf.keras.utils.normalize(X_train, axis=1)"
   ]
  },
  {
   "cell_type": "code",
   "execution_count": 7,
   "metadata": {},
   "outputs": [
    {
     "name": "stdout",
     "output_type": "stream",
     "text": [
      "arr \n",
      " [[1 2]\n",
      " [4 5]\n",
      " [7 8]]\n",
      "arr_norm_axis0 \n",
      " [[0.12309149 0.20739034]\n",
      " [0.49236596 0.51847585]\n",
      " [0.86164044 0.82956136]]\n",
      "arr_norm_axis1 \n",
      " [[0.4472136  0.89442719]\n",
      " [0.62469505 0.78086881]\n",
      " [0.65850461 0.75257669]]\n"
     ]
    }
   ],
   "source": [
    "arr = np.array([[1, 2], [4, 5], [7, 8]])\n",
    "arr_norm_axis0 = tf.keras.utils.normalize(arr, axis=0)\n",
    "arr_norm_axis1  = tf.keras.utils.normalize(arr, axis=1)\n",
    "print(\"arr \\n\", arr)\n",
    "print(\"arr_norm_axis0 \\n\", arr_norm_axis0)\n",
    "print(\"arr_norm_axis1 \\n\", arr_norm_axis1) \n"
   ]
  },
  {
   "cell_type": "markdown",
   "metadata": {},
   "source": [
    "# Tạo model \n"
   ]
  },
  {
   "cell_type": "code",
   "execution_count": 10,
   "metadata": {},
   "outputs": [],
   "source": [
    "model = tf.keras.models.Sequential()\n",
    "# model.add(tf.keras.layers.Conv2D(filters=32, kernel_size=3, activation='relu', input_shape=(28, 28, 1)))\n",
    "model.add(tf.keras.layers.Flatten())\n",
    "model.add(tf.keras.layers.Dense(128, activation=tf.nn.relu))\n",
    "model.add(tf.keras.layers.Dense(10, activation=tf.nn.softmax))\n"
   ]
  },
  {
   "cell_type": "code",
   "execution_count": 13,
   "metadata": {},
   "outputs": [
    {
     "name": "stdout",
     "output_type": "stream",
     "text": [
      "Epoch 1/3\n",
      "59/59 [==============================] - 1s 3ms/step - loss: 0.4102 - accuracy: 0.9593\n",
      "Epoch 2/3\n",
      "59/59 [==============================] - 0s 3ms/step - loss: 0.2598 - accuracy: 0.9678\n",
      "Epoch 3/3\n",
      "59/59 [==============================] - 0s 3ms/step - loss: 0.1898 - accuracy: 0.9732\n",
      "val_loss, val_acc \n",
      " 0.18979400396347046 0.9732333421707153\n"
     ]
    }
   ],
   "source": [
    "model.compile(optimizer = \"adam\", loss = \"sparse_category_crossentropy\",  \n",
    "                    metrics = [\"accuracy\"] # what to track - những gì để theo dõi sẽ được lưu ở đây\n",
    "                    )\n",
    "\n",
    "model.compile(optimizer='adam',  # Good default optimizer to start with\n",
    "\t\t\t\tloss='sparse_categorical_crossentropy',  # how will we calculate our \"error.\" Neural network aims to minimize loss.\n",
    "\t\t\t\tmetrics=['accuracy'])  # what to track\n",
    "\n",
    "hist  = model.fit(X_train, y_train, epochs=3, batch_size = 1024 )  # train the model\n",
    "val_loss, val_acc = hist.history['loss'][-1], hist.history['accuracy'][-1]\n",
    "print(\"val_loss, val_acc \\n\", val_loss, val_acc)"
   ]
  },
  {
   "cell_type": "code",
   "execution_count": 15,
   "metadata": {},
   "outputs": [
    {
     "data": {
      "text/plain": [
       "[0.9592666625976562, 0.9678000211715698, 0.9732333421707153]"
      ]
     },
     "execution_count": 15,
     "metadata": {},
     "output_type": "execute_result"
    }
   ],
   "source": [
    "hist.history[\"accuracy\"]"
   ]
  },
  {
   "cell_type": "code",
   "execution_count": 14,
   "metadata": {},
   "outputs": [
    {
     "name": "stdout",
     "output_type": "stream",
     "text": [
      "313/313 [==============================] - 1s 2ms/step - loss: 0.6202 - accuracy: 0.9482\n",
      "val_loss, val_acc \n",
      " 0.6201717853546143 0.948199987411499\n"
     ]
    }
   ],
   "source": [
    "val_loss, val_acc = model.evaluate(X_test, y_test) # return loss and accuracy in test data\n",
    "\n",
    "print(\"val_loss, val_acc \\n\", val_loss, val_acc)"
   ]
  },
  {
   "cell_type": "markdown",
   "metadata": {},
   "source": [
    "# SỬ DỤNG WANDB\n"
   ]
  },
  {
   "cell_type": "code",
   "execution_count": 1,
   "metadata": {},
   "outputs": [
    {
     "name": "stderr",
     "output_type": "stream",
     "text": [
      "Failed to detect the name of this notebook, you can set it manually with the WANDB_NOTEBOOK_NAME environment variable to enable code saving.\n",
      "\u001b[34m\u001b[1mwandb\u001b[0m: Currently logged in as: \u001b[33maiotlab\u001b[0m (use `wandb login --relogin` to force relogin)\n"
     ]
    },
    {
     "data": {
      "text/html": [
       "wandb version 0.12.16 is available!  To upgrade, please run:\n",
       " $ pip install wandb --upgrade"
      ],
      "text/plain": [
       "<IPython.core.display.HTML object>"
      ]
     },
     "metadata": {},
     "output_type": "display_data"
    },
    {
     "data": {
      "text/html": [
       "Tracking run with wandb version 0.12.11"
      ],
      "text/plain": [
       "<IPython.core.display.HTML object>"
      ]
     },
     "metadata": {},
     "output_type": "display_data"
    },
    {
     "data": {
      "text/html": [
       "Run data is saved locally in <code>/mnt/disk1/doan/xanh/server_blister_packs/wandb/run-20220511_162338-32tct2ez</code>"
      ],
      "text/plain": [
       "<IPython.core.display.HTML object>"
      ]
     },
     "metadata": {},
     "output_type": "display_data"
    },
    {
     "data": {
      "text/html": [
       "Syncing run <strong><a href=\"https://wandb.ai/aiotlab/xanh_geo/runs/32tct2ez\" target=\"_blank\">vibrant-meadow-8</a></strong> to <a href=\"https://wandb.ai/aiotlab/xanh_geo\" target=\"_blank\">Weights & Biases</a> (<a href=\"https://wandb.me/run\" target=\"_blank\">docs</a>)<br/>"
      ],
      "text/plain": [
       "<IPython.core.display.HTML object>"
      ]
     },
     "metadata": {},
     "output_type": "display_data"
    },
    {
     "data": {
      "text/html": [
       "<button onClick=\"this.nextSibling.style.display='block';this.style.display='none';\">Display W&B run</button><iframe src=\"https://wandb.ai/aiotlab/xanh_geo/runs/32tct2ez?jupyter=true\" style=\"border:none;width:100%;height:420px;display:none;\"></iframe>"
      ],
      "text/plain": [
       "<wandb.sdk.wandb_run.Run at 0x7f9dfc191b20>"
      ]
     },
     "execution_count": 1,
     "metadata": {},
     "output_type": "execute_result"
    }
   ],
   "source": [
    "import wandb\n",
    "wandb.init(project = \"xanh_geo\")"
   ]
  },
  {
   "cell_type": "code",
   "execution_count": 1,
   "metadata": {},
   "outputs": [
    {
     "name": "stderr",
     "output_type": "stream",
     "text": [
      "Failed to detect the name of this notebook, you can set it manually with the WANDB_NOTEBOOK_NAME environment variable to enable code saving.\n",
      "\u001b[34m\u001b[1mwandb\u001b[0m: Currently logged in as: \u001b[33mlongnd\u001b[0m (\u001b[33maiotlab\u001b[0m). Use \u001b[1m`wandb login --relogin`\u001b[0m to force relogin\n"
     ]
    },
    {
     "name": "stdout",
     "output_type": "stream",
     "text": [
      "Problem at: /tmp/ipykernel_43097/433715411.py 2 <cell line: 2>\n"
     ]
    },
    {
     "ename": "KeyboardInterrupt",
     "evalue": "",
     "output_type": "error",
     "traceback": [
      "\u001b[0;31m---------------------------------------------------------------------------\u001b[0m",
      "\u001b[0;31mKeyboardInterrupt\u001b[0m                         Traceback (most recent call last)",
      "\u001b[1;32m/mnt/disk1/doan/xanh/server_blister_packs/UvA_GNN_test.ipynb Cell 15'\u001b[0m in \u001b[0;36m<cell line: 2>\u001b[0;34m()\u001b[0m\n\u001b[1;32m      <a href='vscode-notebook-cell://ssh-remote%2Baiotdoan/mnt/disk1/doan/xanh/server_blister_packs/UvA_GNN_test.ipynb#ch0000015vscode-remote?line=0'>1</a>\u001b[0m \u001b[39mimport\u001b[39;00m \u001b[39mwandb\u001b[39;00m \n\u001b[0;32m----> <a href='vscode-notebook-cell://ssh-remote%2Baiotdoan/mnt/disk1/doan/xanh/server_blister_packs/UvA_GNN_test.ipynb#ch0000015vscode-remote?line=1'>2</a>\u001b[0m wandb\u001b[39m.\u001b[39;49minit(project\u001b[39m=\u001b[39;49m\u001b[39m\"\u001b[39;49m\u001b[39mxanh_geo\u001b[39;49m\u001b[39m\"\u001b[39;49m)\n",
      "File \u001b[0;32m~/.conda/envs/blister_packs/lib/python3.9/site-packages/wandb/sdk/wandb_init.py:1021\u001b[0m, in \u001b[0;36minit\u001b[0;34m(job_type, dir, config, project, entity, reinit, tags, group, name, notes, magic, config_exclude_keys, config_include_keys, anonymous, mode, allow_val_change, resume, force, tensorboard, sync_tensorboard, monitor_gym, save_code, id, settings)\u001b[0m\n\u001b[1;32m   <a href='file:///mnt/disk1/doan/.conda/envs/blister_packs/lib/python3.9/site-packages/wandb/sdk/wandb_init.py?line=1018'>1019</a>\u001b[0m     \u001b[39massert\u001b[39;00m logger\n\u001b[1;32m   <a href='file:///mnt/disk1/doan/.conda/envs/blister_packs/lib/python3.9/site-packages/wandb/sdk/wandb_init.py?line=1019'>1020</a>\u001b[0m     logger\u001b[39m.\u001b[39mwarning(\u001b[39m\"\u001b[39m\u001b[39minterrupted\u001b[39m\u001b[39m\"\u001b[39m, exc_info\u001b[39m=\u001b[39me)\n\u001b[0;32m-> <a href='file:///mnt/disk1/doan/.conda/envs/blister_packs/lib/python3.9/site-packages/wandb/sdk/wandb_init.py?line=1020'>1021</a>\u001b[0m     \u001b[39mraise\u001b[39;00m e\n\u001b[1;32m   <a href='file:///mnt/disk1/doan/.conda/envs/blister_packs/lib/python3.9/site-packages/wandb/sdk/wandb_init.py?line=1021'>1022</a>\u001b[0m \u001b[39mexcept\u001b[39;00m \u001b[39mException\u001b[39;00m \u001b[39mas\u001b[39;00m e:\n\u001b[1;32m   <a href='file:///mnt/disk1/doan/.conda/envs/blister_packs/lib/python3.9/site-packages/wandb/sdk/wandb_init.py?line=1022'>1023</a>\u001b[0m     error_seen \u001b[39m=\u001b[39m e\n",
      "File \u001b[0;32m~/.conda/envs/blister_packs/lib/python3.9/site-packages/wandb/sdk/wandb_init.py:999\u001b[0m, in \u001b[0;36minit\u001b[0;34m(job_type, dir, config, project, entity, reinit, tags, group, name, notes, magic, config_exclude_keys, config_include_keys, anonymous, mode, allow_val_change, resume, force, tensorboard, sync_tensorboard, monitor_gym, save_code, id, settings)\u001b[0m\n\u001b[1;32m    <a href='file:///mnt/disk1/doan/.conda/envs/blister_packs/lib/python3.9/site-packages/wandb/sdk/wandb_init.py?line=996'>997</a>\u001b[0m except_exit \u001b[39m=\u001b[39m wi\u001b[39m.\u001b[39msettings\u001b[39m.\u001b[39m_except_exit\n\u001b[1;32m    <a href='file:///mnt/disk1/doan/.conda/envs/blister_packs/lib/python3.9/site-packages/wandb/sdk/wandb_init.py?line=997'>998</a>\u001b[0m \u001b[39mtry\u001b[39;00m:\n\u001b[0;32m--> <a href='file:///mnt/disk1/doan/.conda/envs/blister_packs/lib/python3.9/site-packages/wandb/sdk/wandb_init.py?line=998'>999</a>\u001b[0m     run \u001b[39m=\u001b[39m wi\u001b[39m.\u001b[39;49minit()\n\u001b[1;32m   <a href='file:///mnt/disk1/doan/.conda/envs/blister_packs/lib/python3.9/site-packages/wandb/sdk/wandb_init.py?line=999'>1000</a>\u001b[0m     except_exit \u001b[39m=\u001b[39m wi\u001b[39m.\u001b[39msettings\u001b[39m.\u001b[39m_except_exit\n\u001b[1;32m   <a href='file:///mnt/disk1/doan/.conda/envs/blister_packs/lib/python3.9/site-packages/wandb/sdk/wandb_init.py?line=1000'>1001</a>\u001b[0m \u001b[39mexcept\u001b[39;00m (\u001b[39mKeyboardInterrupt\u001b[39;00m, \u001b[39mException\u001b[39;00m) \u001b[39mas\u001b[39;00m e:\n",
      "File \u001b[0;32m~/.conda/envs/blister_packs/lib/python3.9/site-packages/wandb/sdk/wandb_init.py:673\u001b[0m, in \u001b[0;36m_WandbInit.init\u001b[0;34m(self)\u001b[0m\n\u001b[1;32m    <a href='file:///mnt/disk1/doan/.conda/envs/blister_packs/lib/python3.9/site-packages/wandb/sdk/wandb_init.py?line=670'>671</a>\u001b[0m \u001b[39massert\u001b[39;00m backend\u001b[39m.\u001b[39minterface\n\u001b[1;32m    <a href='file:///mnt/disk1/doan/.conda/envs/blister_packs/lib/python3.9/site-packages/wandb/sdk/wandb_init.py?line=671'>672</a>\u001b[0m \u001b[39massert\u001b[39;00m run_obj\n\u001b[0;32m--> <a href='file:///mnt/disk1/doan/.conda/envs/blister_packs/lib/python3.9/site-packages/wandb/sdk/wandb_init.py?line=672'>673</a>\u001b[0m _ \u001b[39m=\u001b[39m backend\u001b[39m.\u001b[39;49minterface\u001b[39m.\u001b[39;49mcommunicate_run_start(run_obj)\n\u001b[1;32m    <a href='file:///mnt/disk1/doan/.conda/envs/blister_packs/lib/python3.9/site-packages/wandb/sdk/wandb_init.py?line=674'>675</a>\u001b[0m \u001b[39mself\u001b[39m\u001b[39m.\u001b[39m_wl\u001b[39m.\u001b[39m_global_run_stack\u001b[39m.\u001b[39mappend(run)\n\u001b[1;32m    <a href='file:///mnt/disk1/doan/.conda/envs/blister_packs/lib/python3.9/site-packages/wandb/sdk/wandb_init.py?line=675'>676</a>\u001b[0m \u001b[39mself\u001b[39m\u001b[39m.\u001b[39mrun \u001b[39m=\u001b[39m run\n",
      "File \u001b[0;32m~/.conda/envs/blister_packs/lib/python3.9/site-packages/wandb/sdk/interface/interface.py:234\u001b[0m, in \u001b[0;36mInterfaceBase.communicate_run_start\u001b[0;34m(self, run_pb)\u001b[0m\n\u001b[1;32m    <a href='file:///mnt/disk1/doan/.conda/envs/blister_packs/lib/python3.9/site-packages/wandb/sdk/interface/interface.py?line=231'>232</a>\u001b[0m run_start \u001b[39m=\u001b[39m pb\u001b[39m.\u001b[39mRunStartRequest()\n\u001b[1;32m    <a href='file:///mnt/disk1/doan/.conda/envs/blister_packs/lib/python3.9/site-packages/wandb/sdk/interface/interface.py?line=232'>233</a>\u001b[0m run_start\u001b[39m.\u001b[39mrun\u001b[39m.\u001b[39mCopyFrom(run_pb)\n\u001b[0;32m--> <a href='file:///mnt/disk1/doan/.conda/envs/blister_packs/lib/python3.9/site-packages/wandb/sdk/interface/interface.py?line=233'>234</a>\u001b[0m result \u001b[39m=\u001b[39m \u001b[39mself\u001b[39;49m\u001b[39m.\u001b[39;49m_communicate_run_start(run_start)\n\u001b[1;32m    <a href='file:///mnt/disk1/doan/.conda/envs/blister_packs/lib/python3.9/site-packages/wandb/sdk/interface/interface.py?line=234'>235</a>\u001b[0m \u001b[39mreturn\u001b[39;00m result \u001b[39mis\u001b[39;00m \u001b[39mnot\u001b[39;00m \u001b[39mNone\u001b[39;00m\n",
      "File \u001b[0;32m~/.conda/envs/blister_packs/lib/python3.9/site-packages/wandb/sdk/interface/interface_shared.py:440\u001b[0m, in \u001b[0;36mInterfaceShared._communicate_run_start\u001b[0;34m(self, run_start)\u001b[0m\n\u001b[1;32m    <a href='file:///mnt/disk1/doan/.conda/envs/blister_packs/lib/python3.9/site-packages/wandb/sdk/interface/interface_shared.py?line=435'>436</a>\u001b[0m \u001b[39mdef\u001b[39;00m \u001b[39m_communicate_run_start\u001b[39m(\n\u001b[1;32m    <a href='file:///mnt/disk1/doan/.conda/envs/blister_packs/lib/python3.9/site-packages/wandb/sdk/interface/interface_shared.py?line=436'>437</a>\u001b[0m     \u001b[39mself\u001b[39m, run_start: pb\u001b[39m.\u001b[39mRunStartRequest\n\u001b[1;32m    <a href='file:///mnt/disk1/doan/.conda/envs/blister_packs/lib/python3.9/site-packages/wandb/sdk/interface/interface_shared.py?line=437'>438</a>\u001b[0m ) \u001b[39m-\u001b[39m\u001b[39m>\u001b[39m Optional[pb\u001b[39m.\u001b[39mRunStartResponse]:\n\u001b[1;32m    <a href='file:///mnt/disk1/doan/.conda/envs/blister_packs/lib/python3.9/site-packages/wandb/sdk/interface/interface_shared.py?line=438'>439</a>\u001b[0m     rec \u001b[39m=\u001b[39m \u001b[39mself\u001b[39m\u001b[39m.\u001b[39m_make_request(run_start\u001b[39m=\u001b[39mrun_start)\n\u001b[0;32m--> <a href='file:///mnt/disk1/doan/.conda/envs/blister_packs/lib/python3.9/site-packages/wandb/sdk/interface/interface_shared.py?line=439'>440</a>\u001b[0m     result \u001b[39m=\u001b[39m \u001b[39mself\u001b[39;49m\u001b[39m.\u001b[39;49m_communicate(rec)\n\u001b[1;32m    <a href='file:///mnt/disk1/doan/.conda/envs/blister_packs/lib/python3.9/site-packages/wandb/sdk/interface/interface_shared.py?line=440'>441</a>\u001b[0m     \u001b[39mif\u001b[39;00m result \u001b[39mis\u001b[39;00m \u001b[39mNone\u001b[39;00m:\n\u001b[1;32m    <a href='file:///mnt/disk1/doan/.conda/envs/blister_packs/lib/python3.9/site-packages/wandb/sdk/interface/interface_shared.py?line=441'>442</a>\u001b[0m         \u001b[39mreturn\u001b[39;00m \u001b[39mNone\u001b[39;00m\n",
      "File \u001b[0;32m~/.conda/envs/blister_packs/lib/python3.9/site-packages/wandb/sdk/interface/interface_shared.py:226\u001b[0m, in \u001b[0;36mInterfaceShared._communicate\u001b[0;34m(self, rec, timeout, local)\u001b[0m\n\u001b[1;32m    <a href='file:///mnt/disk1/doan/.conda/envs/blister_packs/lib/python3.9/site-packages/wandb/sdk/interface/interface_shared.py?line=222'>223</a>\u001b[0m \u001b[39mdef\u001b[39;00m \u001b[39m_communicate\u001b[39m(\n\u001b[1;32m    <a href='file:///mnt/disk1/doan/.conda/envs/blister_packs/lib/python3.9/site-packages/wandb/sdk/interface/interface_shared.py?line=223'>224</a>\u001b[0m     \u001b[39mself\u001b[39m, rec: pb\u001b[39m.\u001b[39mRecord, timeout: Optional[\u001b[39mint\u001b[39m] \u001b[39m=\u001b[39m \u001b[39m5\u001b[39m, local: \u001b[39mbool\u001b[39m \u001b[39m=\u001b[39m \u001b[39mNone\u001b[39;00m\n\u001b[1;32m    <a href='file:///mnt/disk1/doan/.conda/envs/blister_packs/lib/python3.9/site-packages/wandb/sdk/interface/interface_shared.py?line=224'>225</a>\u001b[0m ) \u001b[39m-\u001b[39m\u001b[39m>\u001b[39m Optional[pb\u001b[39m.\u001b[39mResult]:\n\u001b[0;32m--> <a href='file:///mnt/disk1/doan/.conda/envs/blister_packs/lib/python3.9/site-packages/wandb/sdk/interface/interface_shared.py?line=225'>226</a>\u001b[0m     \u001b[39mreturn\u001b[39;00m \u001b[39mself\u001b[39;49m\u001b[39m.\u001b[39;49m_communicate_async(rec, local\u001b[39m=\u001b[39;49mlocal)\u001b[39m.\u001b[39;49mget(timeout\u001b[39m=\u001b[39;49mtimeout)\n",
      "File \u001b[0;32m~/.conda/envs/blister_packs/lib/python3.9/site-packages/wandb/sdk/interface/router.py:37\u001b[0m, in \u001b[0;36mMessageFutureObject.get\u001b[0;34m(self, timeout)\u001b[0m\n\u001b[1;32m     <a href='file:///mnt/disk1/doan/.conda/envs/blister_packs/lib/python3.9/site-packages/wandb/sdk/interface/router.py?line=35'>36</a>\u001b[0m \u001b[39mdef\u001b[39;00m \u001b[39mget\u001b[39m(\u001b[39mself\u001b[39m, timeout: \u001b[39mint\u001b[39m \u001b[39m=\u001b[39m \u001b[39mNone\u001b[39;00m) \u001b[39m-\u001b[39m\u001b[39m>\u001b[39m Optional[\u001b[39m\"\u001b[39m\u001b[39mpb.Result\u001b[39m\u001b[39m\"\u001b[39m]:\n\u001b[0;32m---> <a href='file:///mnt/disk1/doan/.conda/envs/blister_packs/lib/python3.9/site-packages/wandb/sdk/interface/router.py?line=36'>37</a>\u001b[0m     is_set \u001b[39m=\u001b[39m \u001b[39mself\u001b[39;49m\u001b[39m.\u001b[39;49m_object_ready\u001b[39m.\u001b[39;49mwait(timeout)\n\u001b[1;32m     <a href='file:///mnt/disk1/doan/.conda/envs/blister_packs/lib/python3.9/site-packages/wandb/sdk/interface/router.py?line=37'>38</a>\u001b[0m     \u001b[39mif\u001b[39;00m is_set \u001b[39mand\u001b[39;00m \u001b[39mself\u001b[39m\u001b[39m.\u001b[39m_object:\n\u001b[1;32m     <a href='file:///mnt/disk1/doan/.conda/envs/blister_packs/lib/python3.9/site-packages/wandb/sdk/interface/router.py?line=38'>39</a>\u001b[0m         \u001b[39mreturn\u001b[39;00m \u001b[39mself\u001b[39m\u001b[39m.\u001b[39m_object\n",
      "File \u001b[0;32m~/.conda/envs/blister_packs/lib/python3.9/threading.py:574\u001b[0m, in \u001b[0;36mEvent.wait\u001b[0;34m(self, timeout)\u001b[0m\n\u001b[1;32m    <a href='file:///mnt/disk1/doan/.conda/envs/blister_packs/lib/python3.9/threading.py?line=571'>572</a>\u001b[0m signaled \u001b[39m=\u001b[39m \u001b[39mself\u001b[39m\u001b[39m.\u001b[39m_flag\n\u001b[1;32m    <a href='file:///mnt/disk1/doan/.conda/envs/blister_packs/lib/python3.9/threading.py?line=572'>573</a>\u001b[0m \u001b[39mif\u001b[39;00m \u001b[39mnot\u001b[39;00m signaled:\n\u001b[0;32m--> <a href='file:///mnt/disk1/doan/.conda/envs/blister_packs/lib/python3.9/threading.py?line=573'>574</a>\u001b[0m     signaled \u001b[39m=\u001b[39m \u001b[39mself\u001b[39;49m\u001b[39m.\u001b[39;49m_cond\u001b[39m.\u001b[39;49mwait(timeout)\n\u001b[1;32m    <a href='file:///mnt/disk1/doan/.conda/envs/blister_packs/lib/python3.9/threading.py?line=574'>575</a>\u001b[0m \u001b[39mreturn\u001b[39;00m signaled\n",
      "File \u001b[0;32m~/.conda/envs/blister_packs/lib/python3.9/threading.py:316\u001b[0m, in \u001b[0;36mCondition.wait\u001b[0;34m(self, timeout)\u001b[0m\n\u001b[1;32m    <a href='file:///mnt/disk1/doan/.conda/envs/blister_packs/lib/python3.9/threading.py?line=313'>314</a>\u001b[0m \u001b[39melse\u001b[39;00m:\n\u001b[1;32m    <a href='file:///mnt/disk1/doan/.conda/envs/blister_packs/lib/python3.9/threading.py?line=314'>315</a>\u001b[0m     \u001b[39mif\u001b[39;00m timeout \u001b[39m>\u001b[39m \u001b[39m0\u001b[39m:\n\u001b[0;32m--> <a href='file:///mnt/disk1/doan/.conda/envs/blister_packs/lib/python3.9/threading.py?line=315'>316</a>\u001b[0m         gotit \u001b[39m=\u001b[39m waiter\u001b[39m.\u001b[39;49macquire(\u001b[39mTrue\u001b[39;49;00m, timeout)\n\u001b[1;32m    <a href='file:///mnt/disk1/doan/.conda/envs/blister_packs/lib/python3.9/threading.py?line=316'>317</a>\u001b[0m     \u001b[39melse\u001b[39;00m:\n\u001b[1;32m    <a href='file:///mnt/disk1/doan/.conda/envs/blister_packs/lib/python3.9/threading.py?line=317'>318</a>\u001b[0m         gotit \u001b[39m=\u001b[39m waiter\u001b[39m.\u001b[39macquire(\u001b[39mFalse\u001b[39;00m)\n",
      "\u001b[0;31mKeyboardInterrupt\u001b[0m: "
     ]
    },
    {
     "name": "stderr",
     "output_type": "stream",
     "text": [
      "Exception in thread StatsThr:\n",
      "Traceback (most recent call last):\n",
      "  File \"/mnt/disk1/doan/.conda/envs/blister_packs/lib/python3.9/threading.py\", line 973, in _bootstrap_inner\n",
      "    self.run()\n",
      "  File \"/mnt/disk1/doan/.conda/envs/blister_packs/lib/python3.9/threading.py\", line 910, in run\n",
      "    self._target(*self._args, **self._kwargs)\n",
      "  File \"/mnt/disk1/doan/.conda/envs/blister_packs/lib/python3.9/site-packages/wandb/sdk/internal/stats.py\", line 126, in _thread_body\n",
      "    stats = self.stats()\n",
      "  File \"/mnt/disk1/doan/.conda/envs/blister_packs/lib/python3.9/site-packages/wandb/sdk/internal/stats.py\", line 172, in stats\n",
      "    handle = pynvml.nvmlDeviceGetHandleByIndex(i)\n",
      "  File \"/mnt/disk1/doan/.conda/envs/blister_packs/lib/python3.9/site-packages/wandb/vendor/pynvml/pynvml.py\", line 819, in nvmlDeviceGetHandleByIndex\n",
      "    _nvmlCheckReturn(ret)\n",
      "  File \"/mnt/disk1/doan/.conda/envs/blister_packs/lib/python3.9/site-packages/wandb/vendor/pynvml/pynvml.py\", line 310, in _nvmlCheckReturn\n",
      "    raise NVMLError(ret)\n",
      "wandb.vendor.pynvml.pynvml.NVMLError_Unknown: Unknown Error\n"
     ]
    }
   ],
   "source": [
    "import wandb \n",
    "wandb.init(project=\"xanh_geo\")"
   ]
  },
  {
   "cell_type": "code",
   "execution_count": null,
   "metadata": {},
   "outputs": [],
   "source": [
    "wandb.finish()"
   ]
  },
  {
   "cell_type": "code",
   "execution_count": null,
   "metadata": {},
   "outputs": [],
   "source": []
  }
 ],
 "metadata": {
  "interpreter": {
   "hash": "409cc098abf40f698db0ffa32693752020fa12b80fb16a26360d9d74f49496e5"
  },
  "kernelspec": {
   "display_name": "Python 3.9.12 64-bit ('blister_packs')",
   "language": "python",
   "name": "python3"
  },
  "language_info": {
   "codemirror_mode": {
    "name": "ipython",
    "version": 3
   },
   "file_extension": ".py",
   "mimetype": "text/x-python",
   "name": "python",
   "nbconvert_exporter": "python",
   "pygments_lexer": "ipython3",
   "version": "3.9.12"
  },
  "orig_nbformat": 4
 },
 "nbformat": 4,
 "nbformat_minor": 2
}
