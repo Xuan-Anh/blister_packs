{
 "cells": [
  {
   "cell_type": "markdown",
   "metadata": {},
   "source": [
    "# delete "
   ]
  },
  {
   "cell_type": "code",
   "execution_count": 5,
   "metadata": {},
   "outputs": [
    {
     "name": "stdout",
     "output_type": "stream",
     "text": [
      "432\n",
      "432\n"
     ]
    }
   ],
   "source": [
    "import os\n",
    "image_folder = \"../DATN_data/robo_sorted/v0_v10_few_shot/DATA_CHUP_yolo/images\"\n",
    "label_folder = \"../DATN_data/robo_sorted/v0_v10_few_shot/DATA_CHUP_yolo/labels\"\n",
    "image_list = os.listdir(image_folder)\n",
    "label_list = os.listdir(label_folder)\n",
    "print(len(image_list))\n",
    "print(len(label_list))\n"
   ]
  },
  {
   "cell_type": "code",
   "execution_count": 3,
   "metadata": {},
   "outputs": [
    {
     "name": "stdout",
     "output_type": "stream",
     "text": [
      "source_image_path: ../DATN_data/robo_sorted/v0_v10_few_shot/DATA_CHUP_yolo/images/IMG_20220514_135131 - Copy.jpg\n",
      "source_image_path: ../DATN_data/robo_sorted/v0_v10_few_shot/DATA_CHUP_yolo/images/IMG_20220514_135128 - Copy.jpg\n",
      "source_image_path: ../DATN_data/robo_sorted/v0_v10_few_shot/DATA_CHUP_yolo/images/IMG_20220514_135721 - Copy.jpg\n",
      "source_image_path: ../DATN_data/robo_sorted/v0_v10_few_shot/DATA_CHUP_yolo/images/IMG_20220514_135716 - Copy.jpg\n",
      "source_image_path: ../DATN_data/robo_sorted/v0_v10_few_shot/DATA_CHUP_yolo/images/IMG_20220514_135134 - Copy.jpg\n",
      "source_image_path: ../DATN_data/robo_sorted/v0_v10_few_shot/DATA_CHUP_yolo/images/IMG_20220514_135722 - Copy.jpg\n",
      "source_image_path: ../DATN_data/robo_sorted/v0_v10_few_shot/DATA_CHUP_yolo/images/IMG_20220514_135714 - Copy.jpg\n",
      "source_image_path: ../DATN_data/robo_sorted/v0_v10_few_shot/DATA_CHUP_yolo/images/IMG_20220514_135736 - Copy.jpg\n"
     ]
    }
   ],
   "source": [
    "import os\n",
    "couple_list = []\n",
    "for image_name in image_list:\n",
    "    couple_list.append((image_name, image_name.replace(\".jpg\", \".txt\")))\n",
    "for source_image_name, source_label_name in couple_list:\n",
    "    if source_label_name not in label_list:\n",
    "        source_image_path = os.path.join(image_folder, source_image_name)\n",
    "        # os.remove(source_image_path)\n",
    "        print(\"source_image_path:\", source_image_path)\n",
    "        "
   ]
  },
  {
   "cell_type": "code",
   "execution_count": null,
   "metadata": {},
   "outputs": [],
   "source": []
  },
  {
   "cell_type": "markdown",
   "metadata": {},
   "source": [
    "# Chỉnh lại nhãn "
   ]
  },
  {
   "cell_type": "code",
   "execution_count": 2,
   "metadata": {},
   "outputs": [],
   "source": [
    "# tự chỉnh tay mỗi folder \n",
    "type = \"valid\"\n",
    "label_folder = \"../DATN_data/roboflow/yolo_crop_v3/\" + type + \"/labels\"\n",
    "label_file_name_list    = os.listdir(label_folder)\n",
    "# print(label_file_name_list)\n",
    "for label_file_name in label_file_name_list:\n",
    "    label_file_path = os.path.join(label_folder, label_file_name)\n",
    "    with open(label_file_path, \"r\") as f:\n",
    "        line = f.readline()\n",
    "        line = line.split(\" \")\n",
    "        # print(line)\n",
    "        line[0]  = \"0\"\n",
    "        write_line = \" \".join(line)\n",
    "        f.close()\n",
    "        with open(label_file_path, \"w\") as f:\n",
    "            f.write(write_line)\n",
    "            f.close()\n",
    "\n",
    "\n",
    "    "
   ]
  },
  {
   "cell_type": "code",
   "execution_count": 2,
   "metadata": {},
   "outputs": [
    {
     "name": "stdout",
     "output_type": "stream",
     "text": [
      "Collecting gekko\n",
      "  Downloading gekko-1.0.4-py3-none-any.whl (14.1 MB)\n",
      "\u001b[2K     \u001b[90m━━━━━━━━━━━━━━━━━━━━━━━━━━━━━━━━━━━━━━━\u001b[0m \u001b[32m14.1/14.1 MB\u001b[0m \u001b[31m501.6 kB/s\u001b[0m eta \u001b[36m0:00:00\u001b[0m00:01\u001b[0m00:01\u001b[0m\n",
      "\u001b[?25hRequirement already satisfied: numpy>=1.8 in /mnt/disk1/doan/.conda/envs/blister_packs/lib/python3.9/site-packages (from gekko) (1.22.3)\n",
      "Installing collected packages: gekko\n",
      "Successfully installed gekko-1.0.4\n",
      "Requirement already satisfied: beautifulsoup4 in /mnt/disk1/doan/.local/lib/python3.9/site-packages (4.11.1)\n",
      "Collecting lxml\n",
      "  Downloading lxml-4.8.0-cp39-cp39-manylinux_2_17_x86_64.manylinux2014_x86_64.manylinux_2_24_x86_64.whl (6.9 MB)\n",
      "\u001b[2K     \u001b[90m━━━━━━━━━━━━━━━━━━━━━━━━━━━━━━━━━━━━━━━━\u001b[0m \u001b[32m6.9/6.9 MB\u001b[0m \u001b[31m628.8 kB/s\u001b[0m eta \u001b[36m0:00:00\u001b[0m00:01\u001b[0m00:01\u001b[0m\n",
      "\u001b[?25hRequirement already satisfied: soupsieve>1.2 in /mnt/disk1/doan/.local/lib/python3.9/site-packages (from beautifulsoup4) (2.3.2.post1)\n",
      "Installing collected packages: lxml\n",
      "Successfully installed lxml-4.8.0\n",
      "Requirement already satisfied: keras in /mnt/disk1/doan/.conda/envs/blister_packs/lib/python3.9/site-packages (2.8.0)\n",
      "Requirement already satisfied: opencv-python in /mnt/disk1/doan/.conda/envs/blister_packs/lib/python3.9/site-packages (4.5.5.64)\n",
      "Requirement already satisfied: numpy>=1.14.5 in /mnt/disk1/doan/.conda/envs/blister_packs/lib/python3.9/site-packages (from opencv-python) (1.22.3)\n",
      "Collecting plotly\n",
      "  Downloading plotly-5.8.0-py2.py3-none-any.whl (15.2 MB)\n",
      "\u001b[2K     \u001b[90m━━━━━━━━━━━━━━━━━━━━━━━━━━━━━━━━━━━━━━━\u001b[0m \u001b[32m15.2/15.2 MB\u001b[0m \u001b[31m580.2 kB/s\u001b[0m eta \u001b[36m0:00:00\u001b[0m00:01\u001b[0m00:01\u001b[0m\n",
      "\u001b[?25hCollecting tenacity>=6.2.0\n",
      "  Downloading tenacity-8.0.1-py3-none-any.whl (24 kB)\n",
      "Installing collected packages: tenacity, plotly\n",
      "Successfully installed plotly-5.8.0 tenacity-8.0.1\n",
      "Requirement already satisfied: scikit-learn in /mnt/disk1/doan/.conda/envs/blister_packs/lib/python3.9/site-packages (1.0.2)\n",
      "Requirement already satisfied: joblib>=0.11 in /mnt/disk1/doan/.conda/envs/blister_packs/lib/python3.9/site-packages (from scikit-learn) (1.1.0)\n",
      "Requirement already satisfied: numpy>=1.14.6 in /mnt/disk1/doan/.conda/envs/blister_packs/lib/python3.9/site-packages (from scikit-learn) (1.22.3)\n",
      "Requirement already satisfied: threadpoolctl>=2.0.0 in /mnt/disk1/doan/.conda/envs/blister_packs/lib/python3.9/site-packages (from scikit-learn) (3.1.0)\n",
      "Requirement already satisfied: scipy>=1.1.0 in /mnt/disk1/doan/.conda/envs/blister_packs/lib/python3.9/site-packages (from scikit-learn) (1.8.0)\n",
      "Requirement already satisfied: scipy in /mnt/disk1/doan/.conda/envs/blister_packs/lib/python3.9/site-packages (1.8.0)\n",
      "Requirement already satisfied: numpy<1.25.0,>=1.17.3 in /mnt/disk1/doan/.conda/envs/blister_packs/lib/python3.9/site-packages (from scipy) (1.22.3)\n",
      "Collecting tclab\n",
      "  Downloading tclab-0.4.9-py2.py3-none-any.whl (28 kB)\n",
      "Collecting pyserial\n",
      "  Downloading pyserial-3.5-py2.py3-none-any.whl (90 kB)\n",
      "\u001b[2K     \u001b[90m━━━━━━━━━━━━━━━━━━━━━━━━━━━━━━━━━━━━━━━\u001b[0m \u001b[32m90.6/90.6 kB\u001b[0m \u001b[31m926.8 kB/s\u001b[0m eta \u001b[36m0:00:00\u001b[0m \u001b[36m0:00:01\u001b[0m\n",
      "\u001b[?25hInstalling collected packages: pyserial, tclab\n",
      "Successfully installed pyserial-3.5 tclab-0.4.9\n",
      "Collecting xgboost\n",
      "  Downloading xgboost-1.6.1-py3-none-manylinux2014_x86_64.whl (192.9 MB)\n",
      "\u001b[2K     \u001b[90m━━━━━━━━━━━━━━━━━━━━━━━━━━━━━━━━━━━━━\u001b[0m \u001b[32m192.9/192.9 MB\u001b[0m \u001b[31m406.2 kB/s\u001b[0m eta \u001b[36m0:00:00\u001b[0m00:01\u001b[0m00:10\u001b[0m\n",
      "\u001b[?25hRequirement already satisfied: scipy in /mnt/disk1/doan/.conda/envs/blister_packs/lib/python3.9/site-packages (from xgboost) (1.8.0)\n",
      "Requirement already satisfied: numpy in /mnt/disk1/doan/.conda/envs/blister_packs/lib/python3.9/site-packages (from xgboost) (1.22.3)\n",
      "Installing collected packages: xgboost\n",
      "Successfully installed xgboost-1.6.1\n"
     ]
    }
   ],
   "source": [
    "!pip install gekko\n",
    "!pip install beautifulsoup4 lxml\n",
    "!pip install keras\n",
    "!pip install opencv-python\n",
    "!pip install plotly\n",
    "\n",
    "!pip install scikit-learn\n",
    "!pip install scipy\n",
    "!pip install tclab\n",
    "!pip install xgboost"
   ]
  },
  {
   "cell_type": "code",
   "execution_count": null,
   "metadata": {},
   "outputs": [],
   "source": []
  }
 ],
 "metadata": {
  "interpreter": {
   "hash": "733f2ad7965ce0e8001a0ab4aa8d5d61b64468948589fa52c8931924010a47b0"
  },
  "kernelspec": {
   "display_name": "Python 3.7.11 64-bit ('xanh_env')",
   "language": "python",
   "name": "python3"
  },
  "language_info": {
   "codemirror_mode": {
    "name": "ipython",
    "version": 3
   },
   "file_extension": ".py",
   "mimetype": "text/x-python",
   "name": "python",
   "nbconvert_exporter": "python",
   "pygments_lexer": "ipython3",
   "version": "3.7.11"
  },
  "orig_nbformat": 4
 },
 "nbformat": 4,
 "nbformat_minor": 2
}
