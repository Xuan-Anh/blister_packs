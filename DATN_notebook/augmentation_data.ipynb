{
 "cells": [
  {
   "cell_type": "code",
   "execution_count": null,
   "metadata": {},
   "outputs": [],
   "source": [
    "from collections import defaultdict\n",
    "import copy\n",
    "import random\n",
    "import os\n",
    "import shutil\n",
    "from urllib.request import urlretrieve\n",
    "\n",
    "import albumentations as A\n",
    "from albumentations.pytorch import ToTensorV2\n",
    "import cv2\n",
    "import matplotlib.pyplot as plt\n",
    "from tqdm import tqdm\n",
    "import torch\n",
    "import torch.backends.cudnn as cudnn\n",
    "import torch.nn as nn\n",
    "import torch.optim\n",
    "from torch.utils.data import Dataset, DataLoader\n",
    "import torchvision.models as models\n",
    "\n",
    "cudnn.benchmark = True"
   ]
  },
  {
   "cell_type": "code",
   "execution_count": null,
   "metadata": {},
   "outputs": [],
   "source": [
    "class TqdmUpTo(tqdm):\n",
    "    def update_to(self, b=1, bsize=1, tsize=None):\n",
    "        if tsize is not None:\n",
    "            self.total = tsize\n",
    "        self.update(b * bsize - self.n)\n",
    "\n",
    "\n",
    "def download_url(url, filepath):\n",
    "    directory = os.path.dirname(os.path.abspath(filepath))\n",
    "    os.makedirs(directory, exist_ok=True)\n",
    "    if os.path.exists(filepath):\n",
    "        print(\"Filepath already exists. Skipping download.\")\n",
    "        return\n",
    "\n",
    "    with TqdmUpTo(unit=\"B\", unit_scale=True, unit_divisor=1024, miniters=1, desc=os.path.basename(filepath)) as t:\n",
    "        urlretrieve(url, filename=filepath, reporthook=t.update_to, data=None)\n",
    "        t.total = t.n\n",
    "\n",
    "\n",
    "def extract_archive(filepath):\n",
    "    extract_dir = os.path.dirname(os.path.abspath(filepath))\n",
    "    shutil.unpack_archive(filepath, extract_dir)"
   ]
  },
  {
   "cell_type": "code",
   "execution_count": null,
   "metadata": {},
   "outputs": [],
   "source": [
    "dataset_directory = \"../datasets/cats-vs-dogs\""
   ]
  },
  {
   "cell_type": "code",
   "execution_count": null,
   "metadata": {},
   "outputs": [],
   "source": [
    "def plot(image):\n",
    "    plt.imshow(image)\n",
    "    plt.show()"
   ]
  },
  {
   "cell_type": "code",
   "execution_count": null,
   "metadata": {},
   "outputs": [],
   "source": [
    "# filepath = os.path.join(dataset_directory, \"kagglecatsanddogs_3367a.zip\")\n",
    "# download_url(\n",
    "#     url=\"https://download.microsoft.com/download/3/E/1/3E1C3F21-ECDB-4869-8368-6DEBA77B919F/kagglecatsanddogs_5340.zip\",\n",
    "#     filepath=filepath,\n",
    "# )\n",
    "# extract_archive(filepath)"
   ]
  },
  {
   "cell_type": "code",
   "execution_count": null,
   "metadata": {},
   "outputs": [],
   "source": [
    "root_directory = os.path.join(dataset_directory, \"PetImages\")\n",
    "\n",
    "cat_directory = os.path.join(root_directory, \"Cat\")\n",
    "dog_directory = os.path.join(root_directory, \"Dog\")\n",
    "\n",
    "cat_images_filepaths = sorted([os.path.join(cat_directory, f) for f in os.listdir(cat_directory)])\n",
    "dog_images_filepaths = sorted([os.path.join(dog_directory, f) for f in os.listdir(dog_directory)])\n",
    "images_filepaths = [*cat_images_filepaths, *dog_images_filepaths]\n",
    "correct_images_filepaths = [i for i in images_filepaths if cv2.imread(i) is not None]\n",
    "\n",
    "random.seed(42)\n",
    "random.shuffle(correct_images_filepaths)\n",
    "train_images_filepaths = correct_images_filepaths[:20000]\n",
    "val_images_filepaths = correct_images_filepaths[20000:-10]\n",
    "test_images_filepaths = correct_images_filepaths[-10:]\n",
    "print(len(train_images_filepaths), len(val_images_filepaths), len(test_images_filepaths))"
   ]
  },
  {
   "cell_type": "code",
   "execution_count": null,
   "metadata": {},
   "outputs": [],
   "source": [
    "print(\"len dog_images_filepaths:\", len(dog_images_filepaths))\n",
    "print(\"len cat_images_filepaths:\", len(cat_images_filepaths))\n",
    "print(\"len images_filepaths:\", len(images_filepaths))"
   ]
  },
  {
   "cell_type": "code",
   "execution_count": null,
   "metadata": {},
   "outputs": [],
   "source": [
    "print(dog_images_filepaths[1:4])"
   ]
  },
  {
   "cell_type": "code",
   "execution_count": null,
   "metadata": {},
   "outputs": [],
   "source": [
    "def display_image_grid(images_filepaths, predicted_labels=(), cols=5):\n",
    "    rows = len(images_filepaths) // cols\n",
    "    figure, ax = plt.subplots(nrows=rows, ncols=cols, figsize=(12, 6))\n",
    "    for i, image_filepath in enumerate(images_filepaths):\n",
    "        image = cv2.imread(image_filepath)\n",
    "        image = cv2.cvtColor(image, cv2.COLOR_BGR2RGB)\n",
    "        true_label = os.path.normpath(image_filepath).split(os.sep)[-2]\n",
    "        predicted_label = predicted_labels[i] if predicted_labels else true_label\n",
    "        color = \"green\" if true_label == predicted_label else \"red\"\n",
    "        ax.ravel()[i].imshow(image)\n",
    "        ax.ravel()[i].set_title(predicted_label, color=color)\n",
    "        ax.ravel()[i].set_axis_off()\n",
    "    plt.tight_layout()\n",
    "    plt.show()"
   ]
  },
  {
   "cell_type": "code",
   "execution_count": null,
   "metadata": {},
   "outputs": [],
   "source": [
    "display_image_grid(test_images_filepaths)"
   ]
  },
  {
   "cell_type": "code",
   "execution_count": null,
   "metadata": {},
   "outputs": [],
   "source": []
  },
  {
   "cell_type": "code",
   "execution_count": null,
   "metadata": {},
   "outputs": [],
   "source": [
    "class CatsVsDogsDataset(Dataset):\n",
    "    def __init__(self, images_filepaths, transform=None):\n",
    "        self.images_filepaths = images_filepaths\n",
    "        self.transform = transform\n",
    "\n",
    "    def __len__(self):\n",
    "        return len(self.images_filepaths)\n",
    "\n",
    "    def __getitem__(self, idx):\n",
    "        image_filepath = self.images_filepaths[idx]\n",
    "        image = cv2.imread(image_filepath)\n",
    "        # plot(image)\n",
    "        image = cv2.cvtColor(image, cv2.COLOR_BGR2RGB)\n",
    "        if os.path.normpath(image_filepath).split(os.sep)[-2] == \"Cat\":\n",
    "            label = 1.0\n",
    "        else:\n",
    "            label = 0.0\n",
    "        if self.transform is not None:\n",
    "            image = self.transform(image=image)[\"image\"]\n",
    "\n",
    "        plot(image.permute(1, 2, 0))\n",
    "        return image, label"
   ]
  },
  {
   "cell_type": "code",
   "execution_count": null,
   "metadata": {},
   "outputs": [],
   "source": [
    "params = {\n",
    "    \"model\": \"resnet50\",\n",
    "    \"device\": \"cuda\",\n",
    "    \"lr\": 0.001,\n",
    "    \"batch_size\": 64,\n",
    "    \"num_workers\": 4,\n",
    "    \"epochs\": 10,\n",
    "}"
   ]
  },
  {
   "cell_type": "code",
   "execution_count": null,
   "metadata": {},
   "outputs": [],
   "source": [
    "train_transform = A.Compose(\n",
    "    [\n",
    "        # A.SmallestMaxSize(max_size=160),\n",
    "        A.ShiftScaleRotate(shift_limit=0.01, scale_limit=0.01, rotate_limit=90),\n",
    "        # A.RandomCrop(height=, width=128),\n",
    "        A.RGBShift(r_shift_limit=15, g_shift_limit=15, b_shift_limit=15, p=0.5),\n",
    "        A.RandomBrightnessContrast(p=0.5),\n",
    "        # A.Normalize(mean=(0.485, 0.456, 0.406), std=(0.229, 0.224, 0.225)),\n",
    "        A.RandomRotate90(),\n",
    "        ToTensorV2(),\n",
    "    ]\n",
    ")\n",
    "train_dataset = CatsVsDogsDataset(images_filepaths=train_images_filepaths[:10], transform=train_transform)\n",
    "train_dataset[0]\n",
    "train_loader = DataLoader(\n",
    "    train_dataset, batch_size=params[\"batch_size\"], shuffle=True, num_workers=params[\"num_workers\"], pin_memory=True,\n",
    ")"
   ]
  },
  {
   "cell_type": "code",
   "execution_count": null,
   "metadata": {},
   "outputs": [],
   "source": [
    "image_filepath = \"../DATN_data/test/2_acefalgan_(00)__(1)_crop.jpg\"\n",
    "import albumentations as A\n",
    "from albumentations.pytorch import ToTensorV2\n",
    "image = cv2.imread(image_filepath)\n",
    "image = cv2.cvtColor(image, cv2.COLOR_BGR2RGB)\n",
    "plot(image)\n",
    "image_shape = image.shape[:2]"
   ]
  },
  {
   "cell_type": "code",
   "execution_count": null,
   "metadata": {},
   "outputs": [],
   "source": [
    "xa_transform = A.Compose(\n",
    "    [\n",
    "        A.CropAndPad(px = 30, keep_size = False, pad_mode= 4, p = 0.5),\n",
    "        # A.SmallestMaxSize(max_size=160),\n",
    "        A.ShiftScaleRotate(shift_limit=0.1, scale_limit=0.1, rotate_limit=45, p = 0.5),\n",
    "        # A.RandomCrop(height= round(image_shape[0]*0.9), width= round(image_shape[1]*0.9)),\n",
    "        A.RGBShift(r_shift_limit=5, g_shift_limit=5, b_shift_limit=5, p=0.5),\n",
    "        A.RandomBrightnessContrast(p=0.5),\n",
    "        # A.MultiplicativeNoise(multiplier=0.5, p=0.5),\n",
    "        # A.MultiplicativeNoise(multiplier=1.5, p=0.5),\n",
    "        A.Blur(blur_limit=(5,5), p=0.5),\n",
    "        # A.Normalize(mean=(0.485, 0.456, 0.406), std=(0.229, 0.224, 0.225)),\n",
    "        # A.Resize(height=image_shape[0], width=image_shape[1]),\n",
    "        ToTensorV2(),\n",
    "    ]\n",
    ")\n",
    "\n",
    "\n",
    "\n",
    "\n",
    "\n",
    "# for i in range(20):\n",
    "#     plot(xa_transform(image=image)[\"image\"])\n",
    "\n"
   ]
  },
  {
   "cell_type": "code",
   "execution_count": null,
   "metadata": {},
   "outputs": [],
   "source": [
    "xa_transform = A.Compose(\n",
    "    [\n",
    "        A.CropAndPad(px = 20, keep_size = False, pad_mode= 2, p = 1),\n",
    "\n",
    "        A.CropAndPad(px = 20, keep_size = False, pad_mode= 1, p = 1),\n",
    "\n",
    "        # # A.SmallestMaxSize(max_size=160),\n",
    "        # A.ShiftScaleRotate(shift_limit=0.05, scale_limit=0.05, rotate_limit=45, p = 0.5),\n",
    "        # # A.RandomCrop(height= round(image_shape[0]*0.9), width= round(image_shape[1]*0.9)),\n",
    "        # A.RGBShift(r_shift_limit=5, g_shift_limit=5, b_shift_limit=5, p=0.5),\n",
    "        # A.RandomBrightnessContrast(p=0.5),\n",
    "        # # A.MultiplicativeNoise(multiplier=0.5, p=0.5),\n",
    "        # # A.MultiplicativeNoise(multiplier=1.5, p=0.5),\n",
    "        # A.Blur(blur_limit=(5,5), p=0.5),\n",
    "        # # A.Normalize(mean=(0.485, 0.456, 0.406), std=(0.229, 0.224, 0.225)),\n",
    "        # # A.Resize(height=image_shape[0], width=image_shape[1]),\n",
    "        ToTensorV2(),\n",
    "    ]\n",
    ")\n",
    "\n",
    "print(\"image type:\", type(image))\n",
    "print(\"image shape:\", image.shape)\n",
    "img_ex = xa_transform(image=image)[\"image\"]\n",
    "type(img_ex)\n",
    "\n",
    "\n",
    "# for i in range(10):\n",
    "#     plot(xa_transform(image=image)[\"image\"])"
   ]
  },
  {
   "cell_type": "code",
   "execution_count": null,
   "metadata": {},
   "outputs": [],
   "source": [
    "type(xa_transform)"
   ]
  },
  {
   "cell_type": "code",
   "execution_count": null,
   "metadata": {},
   "outputs": [],
   "source": []
  }
 ],
 "metadata": {
  "interpreter": {
   "hash": "733f2ad7965ce0e8001a0ab4aa8d5d61b64468948589fa52c8931924010a47b0"
  },
  "kernelspec": {
   "display_name": "Python 3.7.11 64-bit ('xanh_env')",
   "language": "python",
   "name": "python3"
  },
  "language_info": {
   "codemirror_mode": {
    "name": "ipython",
    "version": 3
   },
   "file_extension": ".py",
   "mimetype": "text/x-python",
   "name": "python",
   "nbconvert_exporter": "python",
   "pygments_lexer": "ipython3",
   "version": "3.7.11"
  },
  "orig_nbformat": 4
 },
 "nbformat": 4,
 "nbformat_minor": 2
}
